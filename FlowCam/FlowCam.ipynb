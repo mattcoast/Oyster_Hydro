{
 "cells": [
  {
   "cell_type": "code",
   "execution_count": 2,
   "metadata": {},
   "outputs": [],
   "source": [
    "# Import relavant libraries\n",
    "import matplotlib\n",
    "import matplotlib.pyplot as plt\n",
    "import pandas as pd\n",
    "import numpy as np\n",
    "import scipy"
   ]
  },
  {
   "cell_type": "code",
   "execution_count": 19,
   "metadata": {},
   "outputs": [],
   "source": [
    "filename = 'data_export_vial26.csv'\n",
    "df_B = pd.read_csv(filename)\n",
    "# df_B.head() "
   ]
  },
  {
   "cell_type": "code",
   "execution_count": 25,
   "metadata": {},
   "outputs": [
    {
     "data": {
      "text/plain": [
       "Area (ABD)                                             22.167\n",
       "Aspect Ratio                                            0.965\n",
       "Average Blue                                          62.0774\n",
       "Average Green                                         118.135\n",
       "Average Red                                           138.729\n",
       "Circularity (Hu)                                            1\n",
       "Diameter (ABD)                                         5.3126\n",
       "Geodesic Aspect Ratio                                       1\n",
       "Geodesic Length                                        6.0924\n",
       "Geodesic Thickness                                     6.0924\n",
       "Length                                                 5.8422\n",
       "Original Reference ID    F8830623-E9EF-4DCE-94E2-59FDC4AD477F\n",
       "Ratio Blue/Green                                       0.5255\n",
       "Ratio Red/Blue                                         2.2348\n",
       "Ratio Red/Green                                        1.1743\n",
       "Sigma Intensity                                       15.0895\n",
       "Timestamp                             2019-10-22T10:56:52.799\n",
       "Volume (ABD)                                          78.5101\n",
       "Width                                                  5.2858\n",
       "Name: 1, dtype: object"
      ]
     },
     "execution_count": 25,
     "metadata": {},
     "output_type": "execute_result"
    }
   ],
   "source": [
    "filename = 'data_export_vial1.csv'\n",
    "df_T = pd.read_csv(filename)\n",
    "df_T.iloc[1] "
   ]
  },
  {
   "cell_type": "code",
   "execution_count": 39,
   "metadata": {},
   "outputs": [
    {
     "data": {
      "image/png": "[encoded data removed]",
      "text/plain": [
       "<Figure size 432x288 with 1 Axes>"
      ]
     },
     "metadata": {
      "needs_background": "light"
     },
     "output_type": "display_data"
    }
   ],
   "source": [
    "fig, ax = plt.subplots()\n",
    "bins = np.linspace(0, 30, 30)\n",
    "column ='Area (ABD)'\n",
    "\n",
    "plt.hist([df_B[column],df_T[column]], bins, alpha=0.5, label=['bottom','top'],density=True)\n",
    "ax.set_ylabel('Frequency')\n",
    "ax.set_xlabel(column)\n",
    "ax.legend(loc='upper right')\n",
    "plt.show()\n",
    "fig.savefig('Diameter-Hist.png')"
   ]
  },
  {
   "cell_type": "code",
   "execution_count": 35,
   "metadata": {},
   "outputs": [
    {
     "name": "stdout",
     "output_type": "stream",
     "text": [
      "bottom = 7.246473181555085 4.717553732677661\n",
      "top = 7.063660866187609 4.018181697941715\n"
     ]
    }
   ],
   "source": [
    "mb=df_B['Diameter (ABD)'].mean()\n",
    "sb=df_B['Diameter (ABD)'].std()\n",
    "mt=df_T['Diameter (ABD)'].mean()\n",
    "st=df_T['Diameter (ABD)'].std()\n",
    "print('bottom =',mb,sb)\n",
    "print('top =',mt,st)"
   ]
  },
  {
   "cell_type": "code",
   "execution_count": null,
   "metadata": {},
   "outputs": [],
   "source": []
  },
  {
   "cell_type": "code",
   "execution_count": null,
   "metadata": {},
   "outputs": [],
   "source": []
  }
 ],
 "metadata": {
  "kernelspec": {
   "display_name": "Python 3",
   "language": "python",
   "name": "python3"
  },
  "language_info": {
   "codemirror_mode": {
    "name": "ipython",
    "version": 3
   },
   "file_extension": ".py",
   "mimetype": "text/x-python",
   "name": "python",
   "nbconvert_exporter": "python",
   "pygments_lexer": "ipython3",
   "version": "3.7.4"
  }
 },
 "nbformat": 4,
 "nbformat_minor": 4
}
