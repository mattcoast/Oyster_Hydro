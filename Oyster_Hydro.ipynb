{
 "cells": [
  {
   "cell_type": "code",
   "execution_count": 1,
   "metadata": {},
   "outputs": [],
   "source": [
    "# Import relavant libraries\n",
    "import matplotlib\n",
    "import matplotlib.pyplot as plt\n",
    "import pandas as pd\n",
    "import numpy as np\n",
    "import scipy"
   ]
  },
  {
   "cell_type": "code",
   "execution_count": 2,
   "metadata": {},
   "outputs": [
    {
     "data": {
      "text/html": [
       "<div>\n",
       "<style scoped>\n",
       "    .dataframe tbody tr th:only-of-type {\n",
       "        vertical-align: middle;\n",
       "    }\n",
       "\n",
       "    .dataframe tbody tr th {\n",
       "        vertical-align: top;\n",
       "    }\n",
       "\n",
       "    .dataframe thead th {\n",
       "        text-align: right;\n",
       "    }\n",
       "</style>\n",
       "<table border=\"1\" class=\"dataframe\">\n",
       "  <thead>\n",
       "    <tr style=\"text-align: right;\">\n",
       "      <th></th>\n",
       "      <th>Sample</th>\n",
       "      <th>Initial</th>\n",
       "      <th>Final</th>\n",
       "    </tr>\n",
       "  </thead>\n",
       "  <tbody>\n",
       "    <tr>\n",
       "      <th>0</th>\n",
       "      <td>1</td>\n",
       "      <td>1.3395</td>\n",
       "      <td>1.3656</td>\n",
       "    </tr>\n",
       "    <tr>\n",
       "      <th>1</th>\n",
       "      <td>2</td>\n",
       "      <td>1.0771</td>\n",
       "      <td>1.0791</td>\n",
       "    </tr>\n",
       "    <tr>\n",
       "      <th>2</th>\n",
       "      <td>3</td>\n",
       "      <td>1.0826</td>\n",
       "      <td>1.0849</td>\n",
       "    </tr>\n",
       "    <tr>\n",
       "      <th>3</th>\n",
       "      <td>4</td>\n",
       "      <td>1.0933</td>\n",
       "      <td>1.0962</td>\n",
       "    </tr>\n",
       "    <tr>\n",
       "      <th>4</th>\n",
       "      <td>5</td>\n",
       "      <td>1.0848</td>\n",
       "      <td>1.0866</td>\n",
       "    </tr>\n",
       "  </tbody>\n",
       "</table>\n",
       "</div>"
      ],
      "text/plain": [
       "   Sample  Initial   Final\n",
       "0       1   1.3395  1.3656\n",
       "1       2   1.0771  1.0791\n",
       "2       3   1.0826  1.0849\n",
       "3       4   1.0933  1.0962\n",
       "4       5   1.0848  1.0866"
      ]
     },
     "execution_count": 2,
     "metadata": {},
     "output_type": "execute_result"
    }
   ],
   "source": [
    "#Upload total suspended solids raw data\n",
    "# values are in grams\n",
    "filename = 'tss.csv'\n",
    "df = pd.read_csv(filename)\n",
    "df.head() "
   ]
  },
  {
   "cell_type": "code",
   "execution_count": 3,
   "metadata": {},
   "outputs": [
    {
     "data": {
      "text/html": [
       "<div>\n",
       "<style scoped>\n",
       "    .dataframe tbody tr th:only-of-type {\n",
       "        vertical-align: middle;\n",
       "    }\n",
       "\n",
       "    .dataframe tbody tr th {\n",
       "        vertical-align: top;\n",
       "    }\n",
       "\n",
       "    .dataframe thead th {\n",
       "        text-align: right;\n",
       "    }\n",
       "</style>\n",
       "<table border=\"1\" class=\"dataframe\">\n",
       "  <thead>\n",
       "    <tr style=\"text-align: right;\">\n",
       "      <th></th>\n",
       "      <th>Sample</th>\n",
       "      <th>Volume</th>\n",
       "      <th>Description</th>\n",
       "      <th>Tube</th>\n",
       "      <th>Position</th>\n",
       "    </tr>\n",
       "  </thead>\n",
       "  <tbody>\n",
       "    <tr>\n",
       "      <th>0</th>\n",
       "      <td>25</td>\n",
       "      <td>24.0</td>\n",
       "      <td>Initial Rinse</td>\n",
       "      <td>6</td>\n",
       "      <td>--</td>\n",
       "    </tr>\n",
       "    <tr>\n",
       "      <th>1</th>\n",
       "      <td>20</td>\n",
       "      <td>22.0</td>\n",
       "      <td>Initial Rinse</td>\n",
       "      <td>7</td>\n",
       "      <td>--</td>\n",
       "    </tr>\n",
       "    <tr>\n",
       "      <th>2</th>\n",
       "      <td>11</td>\n",
       "      <td>25.0</td>\n",
       "      <td>Initial Rinse</td>\n",
       "      <td>8</td>\n",
       "      <td>--</td>\n",
       "    </tr>\n",
       "    <tr>\n",
       "      <th>3</th>\n",
       "      <td>17</td>\n",
       "      <td>21.5</td>\n",
       "      <td>Initial Rinse</td>\n",
       "      <td>9</td>\n",
       "      <td>--</td>\n",
       "    </tr>\n",
       "    <tr>\n",
       "      <th>4</th>\n",
       "      <td>10</td>\n",
       "      <td>21.0</td>\n",
       "      <td>Initial Rinse</td>\n",
       "      <td>10</td>\n",
       "      <td>--</td>\n",
       "    </tr>\n",
       "  </tbody>\n",
       "</table>\n",
       "</div>"
      ],
      "text/plain": [
       "   Sample  Volume    Description  Tube Position\n",
       "0      25    24.0  Initial Rinse     6       --\n",
       "1      20    22.0  Initial Rinse     7       --\n",
       "2      11    25.0  Initial Rinse     8       --\n",
       "3      17    21.5  Initial Rinse     9       --\n",
       "4      10    21.0  Initial Rinse    10       --"
      ]
     },
     "execution_count": 3,
     "metadata": {},
     "output_type": "execute_result"
    }
   ],
   "source": [
    "#upload sample number and volume data that match for each sample\n",
    "filename = 'Filter_Map.csv'\n",
    "fmap = pd.read_csv(filename)\n",
    "fmap.head() "
   ]
  },
  {
   "cell_type": "code",
   "execution_count": 4,
   "metadata": {},
   "outputs": [
    {
     "data": {
      "text/html": [
       "<div>\n",
       "<style scoped>\n",
       "    .dataframe tbody tr th:only-of-type {\n",
       "        vertical-align: middle;\n",
       "    }\n",
       "\n",
       "    .dataframe tbody tr th {\n",
       "        vertical-align: top;\n",
       "    }\n",
       "\n",
       "    .dataframe thead th {\n",
       "        text-align: right;\n",
       "    }\n",
       "</style>\n",
       "<table border=\"1\" class=\"dataframe\">\n",
       "  <thead>\n",
       "    <tr style=\"text-align: right;\">\n",
       "      <th></th>\n",
       "      <th>Sample</th>\n",
       "      <th>Initial</th>\n",
       "      <th>Final</th>\n",
       "      <th>Volume</th>\n",
       "      <th>Description</th>\n",
       "      <th>Tube</th>\n",
       "      <th>Position</th>\n",
       "    </tr>\n",
       "  </thead>\n",
       "  <tbody>\n",
       "    <tr>\n",
       "      <th>0</th>\n",
       "      <td>1</td>\n",
       "      <td>1.3395</td>\n",
       "      <td>1.3656</td>\n",
       "      <td>53.0</td>\n",
       "      <td>Final Rinse</td>\n",
       "      <td>9</td>\n",
       "      <td>--</td>\n",
       "    </tr>\n",
       "    <tr>\n",
       "      <th>1</th>\n",
       "      <td>2</td>\n",
       "      <td>1.0771</td>\n",
       "      <td>1.0791</td>\n",
       "      <td>150.0</td>\n",
       "      <td>Whole Sample</td>\n",
       "      <td>8</td>\n",
       "      <td>Top</td>\n",
       "    </tr>\n",
       "    <tr>\n",
       "      <th>2</th>\n",
       "      <td>3</td>\n",
       "      <td>1.0826</td>\n",
       "      <td>1.0849</td>\n",
       "      <td>150.0</td>\n",
       "      <td>Whole Sample</td>\n",
       "      <td>9</td>\n",
       "      <td>Top</td>\n",
       "    </tr>\n",
       "    <tr>\n",
       "      <th>3</th>\n",
       "      <td>4</td>\n",
       "      <td>1.0933</td>\n",
       "      <td>1.0962</td>\n",
       "      <td>152.0</td>\n",
       "      <td>Whole Sample</td>\n",
       "      <td>6</td>\n",
       "      <td>Bottom</td>\n",
       "    </tr>\n",
       "    <tr>\n",
       "      <th>4</th>\n",
       "      <td>5</td>\n",
       "      <td>1.0848</td>\n",
       "      <td>1.0866</td>\n",
       "      <td>150.0</td>\n",
       "      <td>Initial Sample</td>\n",
       "      <td>10</td>\n",
       "      <td>Bottom</td>\n",
       "    </tr>\n",
       "  </tbody>\n",
       "</table>\n",
       "</div>"
      ],
      "text/plain": [
       "   Sample  Initial   Final  Volume     Description  Tube Position\n",
       "0       1   1.3395  1.3656    53.0     Final Rinse     9       --\n",
       "1       2   1.0771  1.0791   150.0    Whole Sample     8      Top\n",
       "2       3   1.0826  1.0849   150.0    Whole Sample     9      Top\n",
       "3       4   1.0933  1.0962   152.0    Whole Sample     6   Bottom\n",
       "4       5   1.0848  1.0866   150.0  Initial Sample    10   Bottom"
      ]
     },
     "execution_count": 4,
     "metadata": {},
     "output_type": "execute_result"
    }
   ],
   "source": [
    "#combine the raw data with the sample map\n",
    "df2=pd.merge(df,fmap,how='left', on='Sample')\n",
    "df2.head()"
   ]
  },
  {
   "cell_type": "code",
   "execution_count": 5,
   "metadata": {},
   "outputs": [],
   "source": [
    "#calculate the concentration for each sample\n",
    "df2['Conc']=(df2['Final']-df2['Initial'])/df2['Volume']"
   ]
  },
  {
   "cell_type": "code",
   "execution_count": 6,
   "metadata": {},
   "outputs": [],
   "source": [
    "#Set up definitions to extract difference between top and bottom\n",
    "def des(dd,description):\n",
    "    df_type=dd[dd['Description']==description]\n",
    "    return df_type;  \n",
    "def tube(dd,description,number):\n",
    "    df_type=des(dd,description)\n",
    "    exp_u=df_type[df_type['Tube']==number]\n",
    "    return exp_u;\n",
    "def diff(dd,description,number):\n",
    "    exp_u=tube(dd,description,number)\n",
    "    top=exp_u[exp_u['Position']=='Top']\n",
    "    bottom=exp_u[exp_u['Position']=='Bottom']\n",
    "    red=bottom.iloc[0].Conc-top.iloc[0].Conc\n",
    "    per=red/bottom.iloc[0].Conc\n",
    "    return per \n",
    "   "
   ]
  },
  {
   "cell_type": "code",
   "execution_count": 39,
   "metadata": {},
   "outputs": [
    {
     "name": "stdout",
     "output_type": "stream",
     "text": [
      "    Sample  Initial   Final  Volume     Description  Tube Position      Conc\n",
      "4        5   1.0848  1.0866   150.0  Initial Sample    10   Bottom  0.000012\n",
      "11      12   1.3406  1.3424   152.0  Initial Sample    10      Top  0.000012\n",
      "13      14   1.3439  1.3456   162.0  Initial Sample     8   Bottom  0.000010\n",
      "14      15   1.0852  1.0866   149.0  Initial Sample     7      Top  0.000009\n",
      "15      16   1.0924  1.0941   159.0  Initial Sample     9   Bottom  0.000011\n",
      "18      19   1.3438  1.3454   164.0  Initial Sample     9      Top  0.000010\n",
      "20      21   1.0973  1.0993   150.0  Initial Sample     7   Bottom  0.000013\n",
      "23      24   1.3400  1.3420   151.0  Initial Sample     8      Top  0.000013\n",
      "27      28   1.1100  1.1116   152.0  Initial Sample     6      Top  0.000011\n",
      "28      29   1.3414  1.3434   152.0  Initial Sample     6   Bottom  0.000013\n"
     ]
    }
   ],
   "source": [
    "dr1=des(df2,'Initial Sample')\n",
    "print(dr1)"
   ]
  },
  {
   "cell_type": "code",
   "execution_count": 8,
   "metadata": {},
   "outputs": [],
   "source": [
    "#set up definition to create table of whole and inital sample differences \n",
    "df_filt=pd.DataFrame({'Tube': [6,7,8,9,10]})\n",
    "\n",
    "def chart(dd,Description):\n",
    "    df_filt[Description]=[diff(dd,Description, 6),diff(dd,Description, 7),diff(dd,Description, 8),diff(dd,Description, 9),diff(dd,Description, 10),]\n",
    "    return df_filt"
   ]
  },
  {
   "cell_type": "code",
   "execution_count": 9,
   "metadata": {},
   "outputs": [
    {
     "name": "stdout",
     "output_type": "stream",
     "text": [
      "   Tube  Whole Sample  Initial Sample\n",
      "0     6      0.275862        0.200000\n",
      "1     7     -0.455215        0.295302\n",
      "2     8     -0.250000       -0.262174\n",
      "3     9     -0.277778        0.087518\n",
      "4    10      0.051776        0.013158\n"
     ]
    }
   ],
   "source": [
    "#Create table of whole and initial samples\n",
    "xs=chart(df2,'Whole Sample')\n",
    "xs=chart(df2,'Initial Sample')\n",
    "print(xs)"
   ]
  },
  {
   "cell_type": "code",
   "execution_count": 10,
   "metadata": {},
   "outputs": [
    {
     "data": {
      "image/png": "[encoded data removed]",
      "text/plain": [
       "<Figure size 432x288 with 1 Axes>"
      ]
     },
     "metadata": {
      "needs_background": "light"
     },
     "output_type": "display_data"
    }
   ],
   "source": [
    "## create bar chart to show differences\n",
    "\n",
    "labels = ['T6', 'T7', 'T8', 'T9', 'T10']\n",
    "whole = xs['Whole Sample']*100\n",
    "initial = xs['Initial Sample']*100\n",
    "\n",
    "x = np.arange(len(labels))  # the label locations\n",
    "width = 0.35  # the width of the bars\n",
    "\n",
    "fig, ax = plt.subplots()\n",
    "rects1 = ax.bar(x - width/2, whole, width, label='Whole Sample')\n",
    "rects2 = ax.bar(x + width/2, initial, width, label='Initial Sample')\n",
    "\n",
    "# Add some text for labels, title and custom x-axis tick labels, etc.\n",
    "ax.set_ylabel('% Removal')\n",
    "ax.set_title('Oyster Bed Filtration')\n",
    "ax.set_xticks(x)\n",
    "ax.set_xticklabels(labels)\n",
    "ax.legend()\n",
    "\n",
    "\n",
    "def autolabel(rects):\n",
    "    \"\"\"Attach a text label above each bar in *rects*, displaying its height.\"\"\"\n",
    "    for rect in rects:\n",
    "        height = rect.get_height()\n",
    "        ax.annotate('{}'.format(height),\n",
    "                    xy=(rect.get_x() + rect.get_width() / 2, height),\n",
    "                    xytext=(0, 3),  # 3 points vertical offset\n",
    "                    textcoords=\"offset points\",\n",
    "                    ha='center', va='bottom')\n",
    "\n",
    "\n",
    "# autolabel(rects1)\n",
    "# autolabel(rects2)\n",
    "\n",
    "fig.tight_layout()\n",
    "\n",
    "plt.show()\n",
    "fig.savefig('filtration.png')"
   ]
  },
  {
   "cell_type": "code",
   "execution_count": 11,
   "metadata": {},
   "outputs": [],
   "source": [
    "## what are the rinse differences\n"
   ]
  },
  {
   "cell_type": "code",
   "execution_count": 12,
   "metadata": {},
   "outputs": [],
   "source": [
    "#set up rinse difference definitions \n",
    "def conc(dd,Description,number):\n",
    "    c=tube(dd,Description,number)\n",
    "    c2=c['Conc'].iloc[0]\n",
    "    return c2\n",
    "   \n",
    "df_rns=pd.DataFrame({'Tube': [6,7,8,9,10]})\n",
    "df_ac=pd.DataFrame({'Tube': [6,7,8,9,10]})\n",
    "    \n",
    "def rinse(dd,Description):\n",
    "    df_rns[Description]=[conc(dd,Description, 6),conc(dd,Description, 7),conc(dd,Description, 8),conc(dd,Description, 9),conc(dd,Description, 10),]\n",
    "    return df_rns\n"
   ]
  },
  {
   "cell_type": "code",
   "execution_count": 13,
   "metadata": {},
   "outputs": [],
   "source": [
    "## Need to convert to how much was occupying space within oysters\n",
    "## convert into accumulation rate"
   ]
  },
  {
   "cell_type": "code",
   "execution_count": 14,
   "metadata": {},
   "outputs": [
    {
     "name": "stdout",
     "output_type": "stream",
     "text": [
      "   Tube  Final Rinse  Initial Rinse      Diff\n",
      "0     6     0.000483       0.000475  0.000008\n",
      "1     7     0.000418       0.000277  0.000141\n",
      "2     8     0.000459       0.000188  0.000271\n",
      "3     9     0.000492       0.000349  0.000144\n",
      "4    10     0.000407       0.000324  0.000084\n"
     ]
    }
   ],
   "source": [
    "xq=rinse(df2,'Final Rinse')\n",
    "xq=rinse(df2,'Initial Rinse')\n",
    "xq['Diff']=xq['Final Rinse']-xq['Initial Rinse']\n",
    "print(xq)"
   ]
  },
  {
   "cell_type": "code",
   "execution_count": 15,
   "metadata": {},
   "outputs": [],
   "source": [
    "## Is there a difference in Initial and Final? Is there a difference in each of the tubes?"
   ]
  },
  {
   "cell_type": "code",
   "execution_count": 16,
   "metadata": {},
   "outputs": [],
   "source": [
    "# filename ='VSS.csv'\n",
    "# dfv= pd.read_csv(filename)\n",
    "# dfv.head()"
   ]
  },
  {
   "cell_type": "code",
   "execution_count": 17,
   "metadata": {},
   "outputs": [],
   "source": [
    "# vss_sorted=dfv.sort_values('Wieght')\n",
    "# vss_sorted=vss_sorted.reset_index(drop=True)\n",
    "# vss_sorted.head()"
   ]
  },
  {
   "cell_type": "code",
   "execution_count": 18,
   "metadata": {},
   "outputs": [],
   "source": [
    "# dfi=df2.copy()\n",
    "# dfi=dfi.sort_values('Final')\n",
    "# dfi=dfi.reset_index(drop=True)\n",
    "# dfi.head()"
   ]
  },
  {
   "cell_type": "code",
   "execution_count": 19,
   "metadata": {},
   "outputs": [],
   "source": [
    "# dfi['vss_sorted']=vss_sorted\n",
    "# dfi['VSS']=(dfi['Final']-dfi['vss_sorted'])/dfi['Volume']\n",
    "# print(dfi)"
   ]
  },
  {
   "cell_type": "code",
   "execution_count": 20,
   "metadata": {},
   "outputs": [],
   "source": [
    "# def diff_VSS(dd,description,number):\n",
    "#     exp_u=tube(dd,description,number)\n",
    "#     top=exp_u[exp_u['Position']=='Top']\n",
    "#     bottom=exp_u[exp_u['Position']=='Bottom']\n",
    "#     red=bottom.iloc[0].VSS-top.iloc[0].VSS\n",
    "#     per=red/bottom.iloc[0].VSS\n",
    "#     return per \n",
    "# def chart_VSS(dd,Description):\n",
    "#     df_filt[Description]=[diff_VSS(dd,Description, 6),diff_VSS(dd,Description, 7),diff_VSS(dd,Description, 8),diff_VSS(dd,Description, 9),diff_VSS(dd,Description, 10),]\n",
    "#     return df_filt"
   ]
  },
  {
   "cell_type": "code",
   "execution_count": 21,
   "metadata": {},
   "outputs": [],
   "source": [
    "# dx=chart_VSS(dfi,\"Initial Sample\")\n",
    "# dx=chart_VSS(dfi,'Whole Sample')\n",
    "# print(dx)"
   ]
  },
  {
   "cell_type": "markdown",
   "metadata": {},
   "source": [
    "## Analyze Pressure"
   ]
  },
  {
   "cell_type": "code",
   "execution_count": 22,
   "metadata": {},
   "outputs": [
    {
     "data": {
      "text/html": [
       "<div>\n",
       "<style scoped>\n",
       "    .dataframe tbody tr th:only-of-type {\n",
       "        vertical-align: middle;\n",
       "    }\n",
       "\n",
       "    .dataframe tbody tr th {\n",
       "        vertical-align: top;\n",
       "    }\n",
       "\n",
       "    .dataframe thead th {\n",
       "        text-align: right;\n",
       "    }\n",
       "</style>\n",
       "<table border=\"1\" class=\"dataframe\">\n",
       "  <thead>\n",
       "    <tr style=\"text-align: right;\">\n",
       "      <th></th>\n",
       "      <th>Time</th>\n",
       "      <th>6p</th>\n",
       "      <th>6bh</th>\n",
       "      <th>7p</th>\n",
       "      <th>7bh</th>\n",
       "      <th>8p</th>\n",
       "      <th>8bh</th>\n",
       "      <th>9p</th>\n",
       "      <th>9bh</th>\n",
       "      <th>10p</th>\n",
       "      <th>10bh</th>\n",
       "    </tr>\n",
       "  </thead>\n",
       "  <tbody>\n",
       "    <tr>\n",
       "      <th>0</th>\n",
       "      <td>0</td>\n",
       "      <td>35</td>\n",
       "      <td>280</td>\n",
       "      <td>40</td>\n",
       "      <td>273</td>\n",
       "      <td>42</td>\n",
       "      <td>280</td>\n",
       "      <td>NaN</td>\n",
       "      <td>NaN</td>\n",
       "      <td>NaN</td>\n",
       "      <td>NaN</td>\n",
       "    </tr>\n",
       "    <tr>\n",
       "      <th>1</th>\n",
       "      <td>23</td>\n",
       "      <td>40</td>\n",
       "      <td>280</td>\n",
       "      <td>42</td>\n",
       "      <td>275</td>\n",
       "      <td>44</td>\n",
       "      <td>279</td>\n",
       "      <td>44.0</td>\n",
       "      <td>265.0</td>\n",
       "      <td>40.0</td>\n",
       "      <td>285.0</td>\n",
       "    </tr>\n",
       "    <tr>\n",
       "      <th>2</th>\n",
       "      <td>57</td>\n",
       "      <td>49</td>\n",
       "      <td>283</td>\n",
       "      <td>44</td>\n",
       "      <td>273</td>\n",
       "      <td>46</td>\n",
       "      <td>283</td>\n",
       "      <td>49.0</td>\n",
       "      <td>270.0</td>\n",
       "      <td>44.0</td>\n",
       "      <td>295.0</td>\n",
       "    </tr>\n",
       "    <tr>\n",
       "      <th>3</th>\n",
       "      <td>86</td>\n",
       "      <td>48</td>\n",
       "      <td>283</td>\n",
       "      <td>39</td>\n",
       "      <td>265</td>\n",
       "      <td>45</td>\n",
       "      <td>284</td>\n",
       "      <td>47.0</td>\n",
       "      <td>275.0</td>\n",
       "      <td>49.0</td>\n",
       "      <td>282.0</td>\n",
       "    </tr>\n",
       "    <tr>\n",
       "      <th>4</th>\n",
       "      <td>135</td>\n",
       "      <td>49</td>\n",
       "      <td>275</td>\n",
       "      <td>42</td>\n",
       "      <td>273</td>\n",
       "      <td>48</td>\n",
       "      <td>280</td>\n",
       "      <td>40.0</td>\n",
       "      <td>270.0</td>\n",
       "      <td>47.0</td>\n",
       "      <td>293.0</td>\n",
       "    </tr>\n",
       "    <tr>\n",
       "      <th>5</th>\n",
       "      <td>190</td>\n",
       "      <td>47</td>\n",
       "      <td>283</td>\n",
       "      <td>42</td>\n",
       "      <td>270</td>\n",
       "      <td>47</td>\n",
       "      <td>283</td>\n",
       "      <td>40.0</td>\n",
       "      <td>263.0</td>\n",
       "      <td>47.0</td>\n",
       "      <td>283.0</td>\n",
       "    </tr>\n",
       "    <tr>\n",
       "      <th>6</th>\n",
       "      <td>270</td>\n",
       "      <td>46</td>\n",
       "      <td>270</td>\n",
       "      <td>44</td>\n",
       "      <td>273</td>\n",
       "      <td>45</td>\n",
       "      <td>277</td>\n",
       "      <td>47.0</td>\n",
       "      <td>260.0</td>\n",
       "      <td>52.0</td>\n",
       "      <td>280.0</td>\n",
       "    </tr>\n",
       "  </tbody>\n",
       "</table>\n",
       "</div>"
      ],
      "text/plain": [
       "   Time  6p  6bh  7p  7bh  8p  8bh    9p    9bh   10p   10bh\n",
       "0     0  35  280  40  273  42  280   NaN    NaN   NaN    NaN\n",
       "1    23  40  280  42  275  44  279  44.0  265.0  40.0  285.0\n",
       "2    57  49  283  44  273  46  283  49.0  270.0  44.0  295.0\n",
       "3    86  48  283  39  265  45  284  47.0  275.0  49.0  282.0\n",
       "4   135  49  275  42  273  48  280  40.0  270.0  47.0  293.0\n",
       "5   190  47  283  42  270  47  283  40.0  263.0  47.0  283.0\n",
       "6   270  46  270  44  273  45  277  47.0  260.0  52.0  280.0"
      ]
     },
     "execution_count": 22,
     "metadata": {},
     "output_type": "execute_result"
    }
   ],
   "source": [
    "filename = 'pressure.csv'\n",
    "df3 = pd.read_csv(filename)\n",
    "df3"
   ]
  },
  {
   "cell_type": "code",
   "execution_count": 23,
   "metadata": {},
   "outputs": [
    {
     "data": {
      "text/html": [
       "<div>\n",
       "<style scoped>\n",
       "    .dataframe tbody tr th:only-of-type {\n",
       "        vertical-align: middle;\n",
       "    }\n",
       "\n",
       "    .dataframe tbody tr th {\n",
       "        vertical-align: top;\n",
       "    }\n",
       "\n",
       "    .dataframe thead th {\n",
       "        text-align: right;\n",
       "    }\n",
       "</style>\n",
       "<table border=\"1\" class=\"dataframe\">\n",
       "  <thead>\n",
       "    <tr style=\"text-align: right;\">\n",
       "      <th></th>\n",
       "      <th>6bh</th>\n",
       "      <th>7bh</th>\n",
       "      <th>8bh</th>\n",
       "      <th>9bh</th>\n",
       "      <th>10bh</th>\n",
       "    </tr>\n",
       "  </thead>\n",
       "  <tbody>\n",
       "    <tr>\n",
       "      <th>0</th>\n",
       "      <td>280.0</td>\n",
       "      <td>273.0</td>\n",
       "      <td>280.0</td>\n",
       "      <td>NaN</td>\n",
       "      <td>NaN</td>\n",
       "    </tr>\n",
       "    <tr>\n",
       "      <th>1</th>\n",
       "      <td>280.0</td>\n",
       "      <td>275.0</td>\n",
       "      <td>279.0</td>\n",
       "      <td>265.0</td>\n",
       "      <td>285.0</td>\n",
       "    </tr>\n",
       "    <tr>\n",
       "      <th>2</th>\n",
       "      <td>283.0</td>\n",
       "      <td>273.0</td>\n",
       "      <td>283.0</td>\n",
       "      <td>270.0</td>\n",
       "      <td>295.0</td>\n",
       "    </tr>\n",
       "    <tr>\n",
       "      <th>3</th>\n",
       "      <td>283.0</td>\n",
       "      <td>265.0</td>\n",
       "      <td>284.0</td>\n",
       "      <td>275.0</td>\n",
       "      <td>282.0</td>\n",
       "    </tr>\n",
       "    <tr>\n",
       "      <th>4</th>\n",
       "      <td>275.0</td>\n",
       "      <td>273.0</td>\n",
       "      <td>280.0</td>\n",
       "      <td>270.0</td>\n",
       "      <td>293.0</td>\n",
       "    </tr>\n",
       "    <tr>\n",
       "      <th>5</th>\n",
       "      <td>283.0</td>\n",
       "      <td>270.0</td>\n",
       "      <td>283.0</td>\n",
       "      <td>263.0</td>\n",
       "      <td>283.0</td>\n",
       "    </tr>\n",
       "    <tr>\n",
       "      <th>6</th>\n",
       "      <td>270.0</td>\n",
       "      <td>273.0</td>\n",
       "      <td>277.0</td>\n",
       "      <td>260.0</td>\n",
       "      <td>280.0</td>\n",
       "    </tr>\n",
       "  </tbody>\n",
       "</table>\n",
       "</div>"
      ],
      "text/plain": [
       "     6bh    7bh    8bh    9bh   10bh\n",
       "0  280.0  273.0  280.0    NaN    NaN\n",
       "1  280.0  275.0  279.0  265.0  285.0\n",
       "2  283.0  273.0  283.0  270.0  295.0\n",
       "3  283.0  265.0  284.0  275.0  282.0\n",
       "4  275.0  273.0  280.0  270.0  293.0\n",
       "5  283.0  270.0  283.0  263.0  283.0\n",
       "6  270.0  273.0  277.0  260.0  280.0"
      ]
     },
     "execution_count": 23,
     "metadata": {},
     "output_type": "execute_result"
    }
   ],
   "source": [
    "df_pr=pd.DataFrame([df3['6p'],df3['7p'],df3['8p'],df3['9p'],df3['10p']]).T\n",
    "df_bh=pd.DataFrame([df3['6bh'],df3['7bh'],df3['8bh'],df3['9bh'],df3['10bh']]).T\n",
    "df_bh"
   ]
  },
  {
   "cell_type": "code",
   "execution_count": 24,
   "metadata": {},
   "outputs": [
    {
     "data": {
      "text/plain": [
       "<matplotlib.legend.Legend at 0x2f3cd625f48>"
      ]
     },
     "execution_count": 24,
     "metadata": {},
     "output_type": "execute_result"
    },
    {
     "data": {
      "image/png": "[encoded data removed]",
      "text/plain": [
       "<Figure size 432x288 with 1 Axes>"
      ]
     },
     "metadata": {
      "needs_background": "light"
     },
     "output_type": "display_data"
    }
   ],
   "source": [
    "plt.plot(df3['Time'],df_pr['6p']/df_bh['6bh'],label='tube 6')\n",
    "plt.plot(df3['Time'],df_pr['7p']/df_bh['7bh'],label='tube 7')\n",
    "plt.plot(df3['Time'],df_pr['8p']/df_bh['8bh'],label='tube 8')\n",
    "plt.plot(df3['Time'],df_pr['9p']/df_bh['9bh'],label='tube 9')\n",
    "plt.plot(df3['Time'],df_pr['10p']/df_bh['10bh'],label='tube 10')\n",
    "plt.legend(loc=0)"
   ]
  },
  {
   "cell_type": "code",
   "execution_count": 25,
   "metadata": {},
   "outputs": [],
   "source": [
    "### Is there a trend, Is it different from one another? pressure drop over length, how does this compare to previous work?\n",
    "\n",
    "## be sure to correct for salinity."
   ]
  },
  {
   "cell_type": "markdown",
   "metadata": {},
   "source": [
    "## Rinse data"
   ]
  },
  {
   "cell_type": "code",
   "execution_count": 26,
   "metadata": {},
   "outputs": [],
   "source": [
    "## what are the rinse differences\n"
   ]
  },
  {
   "cell_type": "code",
   "execution_count": 27,
   "metadata": {},
   "outputs": [],
   "source": [
    "#set up rinse difference definitions \n",
    "def conc(dd,Description,number):\n",
    "    c=tube(dd,Description,number)\n",
    "    c2=c['Conc'].iloc[0]\n",
    "    return c2\n",
    "   \n",
    "df_rns=pd.DataFrame({'Tube': [6,7,8,9,10]})\n",
    "df_ac=pd.DataFrame({'Tube': [6,7,8,9,10]})\n",
    "    \n",
    "def rinse(dd,Description):\n",
    "    df_rns[Description]=[conc(dd,Description, 6),conc(dd,Description, 7),conc(dd,Description, 8),conc(dd,Description, 9),conc(dd,Description, 10),]\n",
    "    return df_rns\n"
   ]
  },
  {
   "cell_type": "code",
   "execution_count": 28,
   "metadata": {},
   "outputs": [],
   "source": [
    "## Need to convert to how much was occupying space within oysters\n",
    "## convert into accumulation rate"
   ]
  },
  {
   "cell_type": "code",
   "execution_count": 29,
   "metadata": {},
   "outputs": [
    {
     "data": {
      "text/html": [
       "<div>\n",
       "<style scoped>\n",
       "    .dataframe tbody tr th:only-of-type {\n",
       "        vertical-align: middle;\n",
       "    }\n",
       "\n",
       "    .dataframe tbody tr th {\n",
       "        vertical-align: top;\n",
       "    }\n",
       "\n",
       "    .dataframe thead th {\n",
       "        text-align: right;\n",
       "    }\n",
       "</style>\n",
       "<table border=\"1\" class=\"dataframe\">\n",
       "  <thead>\n",
       "    <tr style=\"text-align: right;\">\n",
       "      <th></th>\n",
       "      <th>Sample</th>\n",
       "      <th>Initial</th>\n",
       "      <th>Final</th>\n",
       "      <th>Volume</th>\n",
       "      <th>Description</th>\n",
       "      <th>Tube</th>\n",
       "      <th>Position</th>\n",
       "      <th>Conc</th>\n",
       "    </tr>\n",
       "  </thead>\n",
       "  <tbody>\n",
       "    <tr>\n",
       "      <th>21</th>\n",
       "      <td>22</td>\n",
       "      <td>1.3452</td>\n",
       "      <td>1.3563</td>\n",
       "      <td>23.0</td>\n",
       "      <td>Final Rinse</td>\n",
       "      <td>6</td>\n",
       "      <td>--</td>\n",
       "      <td>0.000483</td>\n",
       "    </tr>\n",
       "  </tbody>\n",
       "</table>\n",
       "</div>"
      ],
      "text/plain": [
       "    Sample  Initial   Final  Volume  Description  Tube Position      Conc\n",
       "21      22   1.3452  1.3563    23.0  Final Rinse     6       --  0.000483"
      ]
     },
     "execution_count": 29,
     "metadata": {},
     "output_type": "execute_result"
    }
   ],
   "source": [
    "## concentrations are in g/ml\n",
    "cc=tube(df2,'Final Rinse',6)\n",
    "cc"
   ]
  },
  {
   "cell_type": "code",
   "execution_count": 30,
   "metadata": {},
   "outputs": [
    {
     "name": "stdout",
     "output_type": "stream",
     "text": [
      "   Tube  Final Rinse  Initial Rinse      Diff\n",
      "0     6     0.000483       0.000475  0.000008\n",
      "1     7     0.000418       0.000277  0.000141\n",
      "2     8     0.000459       0.000188  0.000271\n",
      "3     9     0.000492       0.000349  0.000144\n",
      "4    10     0.000407       0.000324  0.000084\n"
     ]
    }
   ],
   "source": [
    "xq=rinse(df2,'Final Rinse')\n",
    "xq=rinse(df2,'Initial Rinse')\n",
    "xq['Diff']=xq['Final Rinse']-xq['Initial Rinse']\n",
    "print(xq)"
   ]
  },
  {
   "cell_type": "code",
   "execution_count": 31,
   "metadata": {},
   "outputs": [
    {
     "name": "stdout",
     "output_type": "stream",
     "text": [
      "   Tube  Final Rinse  Initial Rinse      Diff  Bed Hieght\n",
      "0     6     0.000483       0.000475  0.000008  279.142857\n",
      "1     7     0.000418       0.000277  0.000141  271.714286\n",
      "2     8     0.000459       0.000188  0.000271  280.857143\n",
      "3     9     0.000492       0.000349  0.000144  267.166667\n",
      "4    10     0.000407       0.000324  0.000084  286.333333\n"
     ]
    }
   ],
   "source": [
    "## calculate the average bed hieght of the oysters (mm)\n",
    "xq['Bed Hieght']=[df_bh['6bh'].mean(),df_bh['7bh'].mean(),df_bh['8bh'].mean(),df_bh['9bh'].mean(),df_bh['10bh'].mean()]\n",
    "print(xq)"
   ]
  },
  {
   "cell_type": "code",
   "execution_count": 32,
   "metadata": {},
   "outputs": [
    {
     "name": "stdout",
     "output_type": "stream",
     "text": [
      "   Tube  Final Rinse  Initial Rinse      Diff  Bed Hieght     Bed Vol  \\\n",
      "0     6     0.000483       0.000475  0.000008  279.142857  565.775094   \n",
      "1     7     0.000418       0.000277  0.000141  271.714286  550.718643   \n",
      "2     8     0.000459       0.000188  0.000271  280.857143  569.249659   \n",
      "3     9     0.000492       0.000349  0.000144  267.166667  541.501393   \n",
      "4    10     0.000407       0.000324  0.000084  286.333333  580.348966   \n",
      "\n",
      "        Sed   Bed Sed       Rate  \n",
      "0  0.000015  0.008610   1.639928  \n",
      "1  0.000282  0.155203  29.562386  \n",
      "2  0.000542  0.308637  58.787965  \n",
      "3  0.000287  0.155536  29.625927  \n",
      "4  0.000167  0.097032  18.482265  \n"
     ]
    }
   ],
   "source": [
    "# one cup of oysters (236.588 ml) and 2 cups (473.176 ml) of tap water were placed into measuring cup and mixed\n",
    "# calculate how much sediment accumulated\n",
    "xq['Bed Vol']=xq['Bed Hieght']/10*np.pi*np.square(2.54) #calculate bed volume (cm3 or mL)\n",
    "xq['Sed']=xq['Diff']*473.176/236.588 # sediment accumulated in g/mL of oysters\n",
    "xq['Bed Sed']=xq['Bed Vol']*xq['Sed']# sedimentation in whole bed of oysters g\n",
    "xq['Rate']=xq['Bed Sed']*1000/5.25 # sedimentation rate in mg/hr\n",
    "\n",
    "print(xq)"
   ]
  },
  {
   "cell_type": "markdown",
   "metadata": {},
   "source": [
    "# Filtered amount from the bed"
   ]
  },
  {
   "cell_type": "code",
   "execution_count": 33,
   "metadata": {},
   "outputs": [],
   "source": [
    "#0.5 gpm flow rate = 31.5 ml/s\n",
    "#multiply the flow rate x conc = sed flow rate mg/s\n",
    "# mass balance of sediment sed_in - sedimentation - filtration = sed_out"
   ]
  },
  {
   "cell_type": "code",
   "execution_count": 34,
   "metadata": {},
   "outputs": [],
   "source": [
    "def sed_conc(dd,description,number):\n",
    "    exp_u=tube(dd,description,number)\n",
    "    top=exp_u[exp_u['Position']=='Top']\n",
    "    bottom=exp_u[exp_u['Position']=='Bottom']\n",
    "    top_conc=top.iloc[0].Conc\n",
    "    bottom_conc=bottom.iloc[0].Conc\n",
    "    return bottom_conc\n",
    "   \n",
    "df_cc=pd.DataFrame({'Tube': [6,7,8,9,10]})\n",
    "    \n",
    "def sedcomp(dd,Description):\n",
    "    df_cc=[sed_conc(dd,Description, 6),sed_conc(dd,Description, 7),sed_conc(dd,Description, 8),sed_conc(dd,Description, 9),sed_conc(dd,Description, 10),]\n",
    "    return df_cc"
   ]
  },
  {
   "cell_type": "code",
   "execution_count": 35,
   "metadata": {},
   "outputs": [
    {
     "name": "stdout",
     "output_type": "stream",
     "text": [
      "[1.9078947368421873e-05, 1.3907284768211859e-05, 1.0666666666666972e-05, 1.2000000000000158e-05, 1.4666666666666532e-05]\n"
     ]
    }
   ],
   "source": [
    "ws_conc=sedcomp(df2,'Whole Sample')\n",
    "\n",
    "print(ws_conc)"
   ]
  },
  {
   "cell_type": "code",
   "execution_count": 36,
   "metadata": {},
   "outputs": [],
   "source": [
    "df_coc=df_cc\n",
    "df_coc['bottom']=ws_conc"
   ]
  },
  {
   "cell_type": "code",
   "execution_count": 37,
   "metadata": {},
   "outputs": [
    {
     "name": "stdout",
     "output_type": "stream",
     "text": [
      "   Tube    bottom     sed flow   sed rate  percent_ret\n",
      "0     6  0.000019  2163.552632   1.639928     0.000758\n",
      "1     7  0.000014  1577.086093  29.562386     0.018745\n",
      "2     8  0.000011  1209.600000  58.787965     0.048601\n",
      "3     9  0.000012  1360.800000  29.625927     0.021771\n",
      "4    10  0.000015  1663.200000  18.482265     0.011112\n"
     ]
    }
   ],
   "source": [
    "df_coc['sed flow']=df_coc['bottom']*31.5*60*60*1000 #mg/hr\n",
    "# df_coc['sed max']=df_coc['sed flow']\n",
    "df_coc['sed rate']=xq['Rate'] #mg/hr\n",
    "df_coc['percent_ret']=df_coc['sed rate']/df_coc['sed flow']\n",
    "print(df_coc)"
   ]
  },
  {
   "cell_type": "code",
   "execution_count": 38,
   "metadata": {},
   "outputs": [
    {
     "name": "stdout",
     "output_type": "stream",
     "text": [
      "mean= 0.020197503619764613 st dev= 0.017831057060086985\n"
     ]
    }
   ],
   "source": [
    "print('mean=',df_coc['percent_ret'].mean(), 'st dev=',df_coc['percent_ret'].std() )"
   ]
  },
  {
   "cell_type": "code",
   "execution_count": null,
   "metadata": {},
   "outputs": [],
   "source": []
  },
  {
   "cell_type": "code",
   "execution_count": null,
   "metadata": {},
   "outputs": [],
   "source": []
  }
 ],
 "metadata": {
  "kernelspec": {
   "display_name": "oyster",
   "language": "python",
   "name": "oyster"
  },
  "language_info": {
   "codemirror_mode": {
    "name": "ipython",
    "version": 3
   },
   "file_extension": ".py",
   "mimetype": "text/x-python",
   "name": "python",
   "nbconvert_exporter": "python",
   "pygments_lexer": "ipython3",
   "version": "3.7.4"
  }
 },
 "nbformat": 4,
 "nbformat_minor": 4
}
