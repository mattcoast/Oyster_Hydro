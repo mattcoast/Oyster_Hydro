{
 "cells": [
  {
   "cell_type": "code",
   "execution_count": 1,
   "metadata": {},
   "outputs": [],
   "source": [
    "# Import relavant libraries\n",
    "import matplotlib\n",
    "import matplotlib.pyplot as plt\n",
    "import pandas as pd\n",
    "import numpy as np\n",
    "import scipy"
   ]
  },
  {
   "cell_type": "code",
   "execution_count": 2,
   "metadata": {},
   "outputs": [
    {
     "data": {
      "text/html": [
       "<div>\n",
       "<style scoped>\n",
       "    .dataframe tbody tr th:only-of-type {\n",
       "        vertical-align: middle;\n",
       "    }\n",
       "\n",
       "    .dataframe tbody tr th {\n",
       "        vertical-align: top;\n",
       "    }\n",
       "\n",
       "    .dataframe thead th {\n",
       "        text-align: right;\n",
       "    }\n",
       "</style>\n",
       "<table border=\"1\" class=\"dataframe\">\n",
       "  <thead>\n",
       "    <tr style=\"text-align: right;\">\n",
       "      <th></th>\n",
       "      <th>Sample</th>\n",
       "      <th>Initial</th>\n",
       "      <th>Final</th>\n",
       "    </tr>\n",
       "  </thead>\n",
       "  <tbody>\n",
       "    <tr>\n",
       "      <th>0</th>\n",
       "      <td>1</td>\n",
       "      <td>1.3395</td>\n",
       "      <td>1.3656</td>\n",
       "    </tr>\n",
       "    <tr>\n",
       "      <th>1</th>\n",
       "      <td>2</td>\n",
       "      <td>1.0771</td>\n",
       "      <td>1.0791</td>\n",
       "    </tr>\n",
       "    <tr>\n",
       "      <th>2</th>\n",
       "      <td>3</td>\n",
       "      <td>1.0826</td>\n",
       "      <td>1.0849</td>\n",
       "    </tr>\n",
       "    <tr>\n",
       "      <th>3</th>\n",
       "      <td>4</td>\n",
       "      <td>1.0933</td>\n",
       "      <td>1.0962</td>\n",
       "    </tr>\n",
       "    <tr>\n",
       "      <th>4</th>\n",
       "      <td>5</td>\n",
       "      <td>1.0848</td>\n",
       "      <td>1.0866</td>\n",
       "    </tr>\n",
       "  </tbody>\n",
       "</table>\n",
       "</div>"
      ],
      "text/plain": [
       "   Sample  Initial   Final\n",
       "0       1   1.3395  1.3656\n",
       "1       2   1.0771  1.0791\n",
       "2       3   1.0826  1.0849\n",
       "3       4   1.0933  1.0962\n",
       "4       5   1.0848  1.0866"
      ]
     },
     "execution_count": 2,
     "metadata": {},
     "output_type": "execute_result"
    }
   ],
   "source": [
    "filename = 'tss.csv'\n",
    "df = pd.read_csv(filename)\n",
    "df.head() "
   ]
  },
  {
   "cell_type": "code",
   "execution_count": 3,
   "metadata": {},
   "outputs": [
    {
     "data": {
      "text/html": [
       "<div>\n",
       "<style scoped>\n",
       "    .dataframe tbody tr th:only-of-type {\n",
       "        vertical-align: middle;\n",
       "    }\n",
       "\n",
       "    .dataframe tbody tr th {\n",
       "        vertical-align: top;\n",
       "    }\n",
       "\n",
       "    .dataframe thead th {\n",
       "        text-align: right;\n",
       "    }\n",
       "</style>\n",
       "<table border=\"1\" class=\"dataframe\">\n",
       "  <thead>\n",
       "    <tr style=\"text-align: right;\">\n",
       "      <th></th>\n",
       "      <th>Sample</th>\n",
       "      <th>Volume</th>\n",
       "      <th>Description</th>\n",
       "      <th>Tube</th>\n",
       "      <th>Position</th>\n",
       "    </tr>\n",
       "  </thead>\n",
       "  <tbody>\n",
       "    <tr>\n",
       "      <th>0</th>\n",
       "      <td>25</td>\n",
       "      <td>24.0</td>\n",
       "      <td>Initial Rinse</td>\n",
       "      <td>6</td>\n",
       "      <td>--</td>\n",
       "    </tr>\n",
       "    <tr>\n",
       "      <th>1</th>\n",
       "      <td>20</td>\n",
       "      <td>22.0</td>\n",
       "      <td>Initial Rinse</td>\n",
       "      <td>7</td>\n",
       "      <td>--</td>\n",
       "    </tr>\n",
       "    <tr>\n",
       "      <th>2</th>\n",
       "      <td>11</td>\n",
       "      <td>25.0</td>\n",
       "      <td>Initial Rinse</td>\n",
       "      <td>8</td>\n",
       "      <td>--</td>\n",
       "    </tr>\n",
       "    <tr>\n",
       "      <th>3</th>\n",
       "      <td>17</td>\n",
       "      <td>21.5</td>\n",
       "      <td>Initial Rinse</td>\n",
       "      <td>9</td>\n",
       "      <td>--</td>\n",
       "    </tr>\n",
       "    <tr>\n",
       "      <th>4</th>\n",
       "      <td>10</td>\n",
       "      <td>21.0</td>\n",
       "      <td>Initial Rinse</td>\n",
       "      <td>10</td>\n",
       "      <td>--</td>\n",
       "    </tr>\n",
       "  </tbody>\n",
       "</table>\n",
       "</div>"
      ],
      "text/plain": [
       "   Sample  Volume    Description  Tube Position\n",
       "0      25    24.0  Initial Rinse     6       --\n",
       "1      20    22.0  Initial Rinse     7       --\n",
       "2      11    25.0  Initial Rinse     8       --\n",
       "3      17    21.5  Initial Rinse     9       --\n",
       "4      10    21.0  Initial Rinse    10       --"
      ]
     },
     "execution_count": 3,
     "metadata": {},
     "output_type": "execute_result"
    }
   ],
   "source": [
    "filename = 'Filter_Map.csv'\n",
    "fmap = pd.read_csv(filename)\n",
    "fmap.head() "
   ]
  },
  {
   "cell_type": "code",
   "execution_count": 4,
   "metadata": {},
   "outputs": [],
   "source": [
    "df2=pd.merge(df,fmap,how='left', on='Sample')"
   ]
  },
  {
   "cell_type": "code",
   "execution_count": 5,
   "metadata": {},
   "outputs": [
    {
     "data": {
      "text/html": [
       "<div>\n",
       "<style scoped>\n",
       "    .dataframe tbody tr th:only-of-type {\n",
       "        vertical-align: middle;\n",
       "    }\n",
       "\n",
       "    .dataframe tbody tr th {\n",
       "        vertical-align: top;\n",
       "    }\n",
       "\n",
       "    .dataframe thead th {\n",
       "        text-align: right;\n",
       "    }\n",
       "</style>\n",
       "<table border=\"1\" class=\"dataframe\">\n",
       "  <thead>\n",
       "    <tr style=\"text-align: right;\">\n",
       "      <th></th>\n",
       "      <th>Sample</th>\n",
       "      <th>Initial</th>\n",
       "      <th>Final</th>\n",
       "      <th>Volume</th>\n",
       "      <th>Description</th>\n",
       "      <th>Tube</th>\n",
       "      <th>Position</th>\n",
       "    </tr>\n",
       "  </thead>\n",
       "  <tbody>\n",
       "    <tr>\n",
       "      <th>0</th>\n",
       "      <td>1</td>\n",
       "      <td>1.3395</td>\n",
       "      <td>1.3656</td>\n",
       "      <td>53.0</td>\n",
       "      <td>Final Rinse</td>\n",
       "      <td>9</td>\n",
       "      <td>--</td>\n",
       "    </tr>\n",
       "    <tr>\n",
       "      <th>1</th>\n",
       "      <td>2</td>\n",
       "      <td>1.0771</td>\n",
       "      <td>1.0791</td>\n",
       "      <td>150.0</td>\n",
       "      <td>Whole Sample</td>\n",
       "      <td>8</td>\n",
       "      <td>Top</td>\n",
       "    </tr>\n",
       "    <tr>\n",
       "      <th>2</th>\n",
       "      <td>3</td>\n",
       "      <td>1.0826</td>\n",
       "      <td>1.0849</td>\n",
       "      <td>150.0</td>\n",
       "      <td>Whole Sample</td>\n",
       "      <td>9</td>\n",
       "      <td>Top</td>\n",
       "    </tr>\n",
       "    <tr>\n",
       "      <th>3</th>\n",
       "      <td>4</td>\n",
       "      <td>1.0933</td>\n",
       "      <td>1.0962</td>\n",
       "      <td>152.0</td>\n",
       "      <td>Whole Sample</td>\n",
       "      <td>6</td>\n",
       "      <td>Bottom</td>\n",
       "    </tr>\n",
       "    <tr>\n",
       "      <th>4</th>\n",
       "      <td>5</td>\n",
       "      <td>1.0848</td>\n",
       "      <td>1.0866</td>\n",
       "      <td>150.0</td>\n",
       "      <td>Initial Sample</td>\n",
       "      <td>10</td>\n",
       "      <td>Bottom</td>\n",
       "    </tr>\n",
       "  </tbody>\n",
       "</table>\n",
       "</div>"
      ],
      "text/plain": [
       "   Sample  Initial   Final  Volume     Description  Tube Position\n",
       "0       1   1.3395  1.3656    53.0     Final Rinse     9       --\n",
       "1       2   1.0771  1.0791   150.0    Whole Sample     8      Top\n",
       "2       3   1.0826  1.0849   150.0    Whole Sample     9      Top\n",
       "3       4   1.0933  1.0962   152.0    Whole Sample     6   Bottom\n",
       "4       5   1.0848  1.0866   150.0  Initial Sample    10   Bottom"
      ]
     },
     "execution_count": 5,
     "metadata": {},
     "output_type": "execute_result"
    }
   ],
   "source": [
    "df2.head()"
   ]
  },
  {
   "cell_type": "code",
   "execution_count": 6,
   "metadata": {},
   "outputs": [],
   "source": [
    "df2['Conc']=(df2['Final']-df2['Initial'])/df2['Volume']"
   ]
  },
  {
   "cell_type": "code",
   "execution_count": 26,
   "metadata": {},
   "outputs": [],
   "source": [
    "#Set up definitions to extract difference between top and bottom\n",
    "def des(dd,description):\n",
    "    df_type=dd[dd['Description']==description]\n",
    "    return df_type;  \n",
    "def tube(dd,description,number):\n",
    "    df_type=des(dd,description)\n",
    "    exp_u=df_type[df_type['Tube']==number]\n",
    "    return exp_u;\n",
    "def diff(dd,description,number):\n",
    "    exp_u=tube(dd,description,number)\n",
    "    top=exp_u[exp_u['Position']=='Top']\n",
    "    bottom=exp_u[exp_u['Position']=='Bottom']\n",
    "    red=bottom.iloc[0].Conc-top.iloc[0].Conc\n",
    "    per=red/bottom.iloc[0].Conc\n",
    "    return per \n",
    "   "
   ]
  },
  {
   "cell_type": "code",
   "execution_count": null,
   "metadata": {},
   "outputs": [],
   "source": [
    "\n",
    "    \n",
    "    "
   ]
  },
  {
   "cell_type": "code",
   "execution_count": 27,
   "metadata": {},
   "outputs": [
    {
     "name": "stdout",
     "output_type": "stream",
     "text": [
      "-0.27777777777774354\n"
     ]
    }
   ],
   "source": [
    "w3=diff(df2,'Whole Sample',9)\n",
    "print(w3)"
   ]
  },
  {
   "cell_type": "code",
   "execution_count": 28,
   "metadata": {},
   "outputs": [],
   "source": [
    "df_filt=pd.DataFrame({'Tube': [6,7,8,9,10]})"
   ]
  },
  {
   "cell_type": "code",
   "execution_count": 29,
   "metadata": {},
   "outputs": [],
   "source": [
    "def chart(dd,Description):\n",
    "    df_filt[Description]=[diff(df2,Description, 6),diff(df2,Description, 7),diff(df2,Description, 8),diff(df2,Description, 9),diff(df2,Description, 10),]\n",
    "    return df_filt"
   ]
  },
  {
   "cell_type": "code",
   "execution_count": 30,
   "metadata": {},
   "outputs": [],
   "source": [
    "xs=chart(df2,'Whole Sample')"
   ]
  },
  {
   "cell_type": "code",
   "execution_count": 31,
   "metadata": {},
   "outputs": [],
   "source": [
    "xs=chart(df2,'Initial Sample')"
   ]
  },
  {
   "cell_type": "code",
   "execution_count": 32,
   "metadata": {},
   "outputs": [
    {
     "data": {
      "text/html": [
       "<div>\n",
       "<style scoped>\n",
       "    .dataframe tbody tr th:only-of-type {\n",
       "        vertical-align: middle;\n",
       "    }\n",
       "\n",
       "    .dataframe tbody tr th {\n",
       "        vertical-align: top;\n",
       "    }\n",
       "\n",
       "    .dataframe thead th {\n",
       "        text-align: right;\n",
       "    }\n",
       "</style>\n",
       "<table border=\"1\" class=\"dataframe\">\n",
       "  <thead>\n",
       "    <tr style=\"text-align: right;\">\n",
       "      <th></th>\n",
       "      <th>Tube</th>\n",
       "      <th>Whole Sample</th>\n",
       "      <th>Initial Sample</th>\n",
       "    </tr>\n",
       "  </thead>\n",
       "  <tbody>\n",
       "    <tr>\n",
       "      <th>0</th>\n",
       "      <td>6</td>\n",
       "      <td>0.275862</td>\n",
       "      <td>0.200000</td>\n",
       "    </tr>\n",
       "    <tr>\n",
       "      <th>1</th>\n",
       "      <td>7</td>\n",
       "      <td>-0.455215</td>\n",
       "      <td>0.295302</td>\n",
       "    </tr>\n",
       "    <tr>\n",
       "      <th>2</th>\n",
       "      <td>8</td>\n",
       "      <td>-0.250000</td>\n",
       "      <td>-0.262174</td>\n",
       "    </tr>\n",
       "    <tr>\n",
       "      <th>3</th>\n",
       "      <td>9</td>\n",
       "      <td>-0.277778</td>\n",
       "      <td>0.087518</td>\n",
       "    </tr>\n",
       "    <tr>\n",
       "      <th>4</th>\n",
       "      <td>10</td>\n",
       "      <td>0.051776</td>\n",
       "      <td>0.013158</td>\n",
       "    </tr>\n",
       "  </tbody>\n",
       "</table>\n",
       "</div>"
      ],
      "text/plain": [
       "   Tube  Whole Sample  Initial Sample\n",
       "0     6      0.275862        0.200000\n",
       "1     7     -0.455215        0.295302\n",
       "2     8     -0.250000       -0.262174\n",
       "3     9     -0.277778        0.087518\n",
       "4    10      0.051776        0.013158"
      ]
     },
     "execution_count": 32,
     "metadata": {},
     "output_type": "execute_result"
    }
   ],
   "source": [
    "xs"
   ]
  },
  {
   "cell_type": "code",
   "execution_count": null,
   "metadata": {},
   "outputs": [],
   "source": [
    "\n"
   ]
  },
  {
   "cell_type": "code",
   "execution_count": 34,
   "metadata": {},
   "outputs": [
    {
     "data": {
      "image/png": "[encoded data removed]",
      "text/plain": [
       "<Figure size 432x288 with 1 Axes>"
      ]
     },
     "metadata": {
      "needs_background": "light"
     },
     "output_type": "display_data"
    }
   ],
   "source": [
    "labels = ['T6', 'T7', 'T8', 'T9', 'T10']\n",
    "whole = xs['Whole Sample']*100\n",
    "initial = xs['Initial Sample']*100\n",
    "\n",
    "x = np.arange(len(labels))  # the label locations\n",
    "width = 0.35  # the width of the bars\n",
    "\n",
    "fig, ax = plt.subplots()\n",
    "rects1 = ax.bar(x - width/2, whole, width, label='Whole Sample')\n",
    "rects2 = ax.bar(x + width/2, initial, width, label='Initial Sample')\n",
    "\n",
    "# Add some text for labels, title and custom x-axis tick labels, etc.\n",
    "ax.set_ylabel('% Removal')\n",
    "ax.set_title('Oyster Bed Filtration')\n",
    "ax.set_xticks(x)\n",
    "ax.set_xticklabels(labels)\n",
    "ax.legend()\n",
    "\n",
    "\n",
    "def autolabel(rects):\n",
    "    \"\"\"Attach a text label above each bar in *rects*, displaying its height.\"\"\"\n",
    "    for rect in rects:\n",
    "        height = rect.get_height()\n",
    "        ax.annotate('{}'.format(height),\n",
    "                    xy=(rect.get_x() + rect.get_width() / 2, height),\n",
    "                    xytext=(0, 3),  # 3 points vertical offset\n",
    "                    textcoords=\"offset points\",\n",
    "                    ha='center', va='bottom')\n",
    "\n",
    "\n",
    "# autolabel(rects1)\n",
    "# autolabel(rects2)\n",
    "\n",
    "fig.tight_layout()\n",
    "\n",
    "plt.show()\n",
    "fig.savefig('filtration.png')"
   ]
  },
  {
   "cell_type": "markdown",
   "metadata": {},
   "source": [
    "## Analyze Pressure"
   ]
  },
  {
   "cell_type": "code",
   "execution_count": 35,
   "metadata": {},
   "outputs": [
    {
     "data": {
      "text/html": [
       "<div>\n",
       "<style scoped>\n",
       "    .dataframe tbody tr th:only-of-type {\n",
       "        vertical-align: middle;\n",
       "    }\n",
       "\n",
       "    .dataframe tbody tr th {\n",
       "        vertical-align: top;\n",
       "    }\n",
       "\n",
       "    .dataframe thead th {\n",
       "        text-align: right;\n",
       "    }\n",
       "</style>\n",
       "<table border=\"1\" class=\"dataframe\">\n",
       "  <thead>\n",
       "    <tr style=\"text-align: right;\">\n",
       "      <th></th>\n",
       "      <th>Time</th>\n",
       "      <th>6p</th>\n",
       "      <th>6bh</th>\n",
       "      <th>7p</th>\n",
       "      <th>7bh</th>\n",
       "      <th>8p</th>\n",
       "      <th>8bh</th>\n",
       "      <th>9p</th>\n",
       "      <th>9bh</th>\n",
       "      <th>10p</th>\n",
       "      <th>10bh</th>\n",
       "    </tr>\n",
       "  </thead>\n",
       "  <tbody>\n",
       "    <tr>\n",
       "      <th>0</th>\n",
       "      <td>0</td>\n",
       "      <td>35</td>\n",
       "      <td>280</td>\n",
       "      <td>40</td>\n",
       "      <td>273</td>\n",
       "      <td>42</td>\n",
       "      <td>280</td>\n",
       "      <td>NaN</td>\n",
       "      <td>NaN</td>\n",
       "      <td>NaN</td>\n",
       "      <td>NaN</td>\n",
       "    </tr>\n",
       "    <tr>\n",
       "      <th>1</th>\n",
       "      <td>23</td>\n",
       "      <td>40</td>\n",
       "      <td>280</td>\n",
       "      <td>42</td>\n",
       "      <td>275</td>\n",
       "      <td>44</td>\n",
       "      <td>279</td>\n",
       "      <td>44.0</td>\n",
       "      <td>265.0</td>\n",
       "      <td>40.0</td>\n",
       "      <td>285.0</td>\n",
       "    </tr>\n",
       "    <tr>\n",
       "      <th>2</th>\n",
       "      <td>57</td>\n",
       "      <td>49</td>\n",
       "      <td>283</td>\n",
       "      <td>44</td>\n",
       "      <td>273</td>\n",
       "      <td>46</td>\n",
       "      <td>283</td>\n",
       "      <td>49.0</td>\n",
       "      <td>270.0</td>\n",
       "      <td>44.0</td>\n",
       "      <td>295.0</td>\n",
       "    </tr>\n",
       "    <tr>\n",
       "      <th>3</th>\n",
       "      <td>86</td>\n",
       "      <td>48</td>\n",
       "      <td>283</td>\n",
       "      <td>39</td>\n",
       "      <td>265</td>\n",
       "      <td>45</td>\n",
       "      <td>284</td>\n",
       "      <td>47.0</td>\n",
       "      <td>275.0</td>\n",
       "      <td>49.0</td>\n",
       "      <td>282.0</td>\n",
       "    </tr>\n",
       "    <tr>\n",
       "      <th>4</th>\n",
       "      <td>135</td>\n",
       "      <td>49</td>\n",
       "      <td>275</td>\n",
       "      <td>42</td>\n",
       "      <td>273</td>\n",
       "      <td>48</td>\n",
       "      <td>280</td>\n",
       "      <td>40.0</td>\n",
       "      <td>270.0</td>\n",
       "      <td>47.0</td>\n",
       "      <td>293.0</td>\n",
       "    </tr>\n",
       "  </tbody>\n",
       "</table>\n",
       "</div>"
      ],
      "text/plain": [
       "   Time  6p  6bh  7p  7bh  8p  8bh    9p    9bh   10p   10bh\n",
       "0     0  35  280  40  273  42  280   NaN    NaN   NaN    NaN\n",
       "1    23  40  280  42  275  44  279  44.0  265.0  40.0  285.0\n",
       "2    57  49  283  44  273  46  283  49.0  270.0  44.0  295.0\n",
       "3    86  48  283  39  265  45  284  47.0  275.0  49.0  282.0\n",
       "4   135  49  275  42  273  48  280  40.0  270.0  47.0  293.0"
      ]
     },
     "execution_count": 35,
     "metadata": {},
     "output_type": "execute_result"
    }
   ],
   "source": [
    "filename = 'pressure.csv'\n",
    "df3 = pd.read_csv(filename)\n",
    "df3.head() "
   ]
  },
  {
   "cell_type": "code",
   "execution_count": null,
   "metadata": {},
   "outputs": [],
   "source": [
    "plt.scatter()"
   ]
  }
 ],
 "metadata": {
  "kernelspec": {
   "display_name": "Python 3",
   "language": "python",
   "name": "python3"
  },
  "language_info": {
   "codemirror_mode": {
    "name": "ipython",
    "version": 3
   },
   "file_extension": ".py",
   "mimetype": "text/x-python",
   "name": "python",
   "nbconvert_exporter": "python",
   "pygments_lexer": "ipython3",
   "version": "3.7.2"
  }
 },
 "nbformat": 4,
 "nbformat_minor": 4
}
