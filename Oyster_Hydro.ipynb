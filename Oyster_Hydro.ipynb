{
 "cells": [
  {
   "cell_type": "code",
   "execution_count": 3,
   "metadata": {},
   "outputs": [],
   "source": [
    "# Import relavant libraries\n",
    "import matplotlib\n",
    "import matplotlib.pyplot as plt\n",
    "import pandas as pd\n",
    "import numpy as np\n",
    "import scipy"
   ]
  },
  {
   "cell_type": "code",
   "execution_count": 4,
   "metadata": {},
   "outputs": [
    {
     "data": {
      "text/html": [
       "<div>\n",
       "<style scoped>\n",
       "    .dataframe tbody tr th:only-of-type {\n",
       "        vertical-align: middle;\n",
       "    }\n",
       "\n",
       "    .dataframe tbody tr th {\n",
       "        vertical-align: top;\n",
       "    }\n",
       "\n",
       "    .dataframe thead th {\n",
       "        text-align: right;\n",
       "    }\n",
       "</style>\n",
       "<table border=\"1\" class=\"dataframe\">\n",
       "  <thead>\n",
       "    <tr style=\"text-align: right;\">\n",
       "      <th></th>\n",
       "      <th>Sample</th>\n",
       "      <th>Initial</th>\n",
       "      <th>Final</th>\n",
       "    </tr>\n",
       "  </thead>\n",
       "  <tbody>\n",
       "    <tr>\n",
       "      <td>0</td>\n",
       "      <td>1</td>\n",
       "      <td>1.3395</td>\n",
       "      <td>1.3656</td>\n",
       "    </tr>\n",
       "    <tr>\n",
       "      <td>1</td>\n",
       "      <td>2</td>\n",
       "      <td>1.0771</td>\n",
       "      <td>1.0791</td>\n",
       "    </tr>\n",
       "    <tr>\n",
       "      <td>2</td>\n",
       "      <td>3</td>\n",
       "      <td>1.0826</td>\n",
       "      <td>1.0849</td>\n",
       "    </tr>\n",
       "    <tr>\n",
       "      <td>3</td>\n",
       "      <td>4</td>\n",
       "      <td>1.0933</td>\n",
       "      <td>1.0962</td>\n",
       "    </tr>\n",
       "    <tr>\n",
       "      <td>4</td>\n",
       "      <td>5</td>\n",
       "      <td>1.0848</td>\n",
       "      <td>1.0866</td>\n",
       "    </tr>\n",
       "  </tbody>\n",
       "</table>\n",
       "</div>"
      ],
      "text/plain": [
       "   Sample  Initial   Final\n",
       "0       1   1.3395  1.3656\n",
       "1       2   1.0771  1.0791\n",
       "2       3   1.0826  1.0849\n",
       "3       4   1.0933  1.0962\n",
       "4       5   1.0848  1.0866"
      ]
     },
     "execution_count": 4,
     "metadata": {},
     "output_type": "execute_result"
    }
   ],
   "source": [
    "filename = 'tss.csv'\n",
    "df = pd.read_csv(filename)\n",
    "df.head() "
   ]
  },
  {
   "cell_type": "code",
   "execution_count": 5,
   "metadata": {},
   "outputs": [
    {
     "data": {
      "text/html": [
       "<div>\n",
       "<style scoped>\n",
       "    .dataframe tbody tr th:only-of-type {\n",
       "        vertical-align: middle;\n",
       "    }\n",
       "\n",
       "    .dataframe tbody tr th {\n",
       "        vertical-align: top;\n",
       "    }\n",
       "\n",
       "    .dataframe thead th {\n",
       "        text-align: right;\n",
       "    }\n",
       "</style>\n",
       "<table border=\"1\" class=\"dataframe\">\n",
       "  <thead>\n",
       "    <tr style=\"text-align: right;\">\n",
       "      <th></th>\n",
       "      <th>Sample</th>\n",
       "      <th>Volume</th>\n",
       "      <th>Description</th>\n",
       "      <th>Tube</th>\n",
       "      <th>Position</th>\n",
       "    </tr>\n",
       "  </thead>\n",
       "  <tbody>\n",
       "    <tr>\n",
       "      <td>0</td>\n",
       "      <td>25</td>\n",
       "      <td>24.0</td>\n",
       "      <td>Initial Rinse</td>\n",
       "      <td>6</td>\n",
       "      <td>--</td>\n",
       "    </tr>\n",
       "    <tr>\n",
       "      <td>1</td>\n",
       "      <td>20</td>\n",
       "      <td>22.0</td>\n",
       "      <td>Initial Rinse</td>\n",
       "      <td>7</td>\n",
       "      <td>--</td>\n",
       "    </tr>\n",
       "    <tr>\n",
       "      <td>2</td>\n",
       "      <td>11</td>\n",
       "      <td>25.0</td>\n",
       "      <td>Initial Rinse</td>\n",
       "      <td>8</td>\n",
       "      <td>--</td>\n",
       "    </tr>\n",
       "    <tr>\n",
       "      <td>3</td>\n",
       "      <td>17</td>\n",
       "      <td>21.5</td>\n",
       "      <td>Initial Rinse</td>\n",
       "      <td>9</td>\n",
       "      <td>--</td>\n",
       "    </tr>\n",
       "    <tr>\n",
       "      <td>4</td>\n",
       "      <td>10</td>\n",
       "      <td>21.0</td>\n",
       "      <td>Initial Rinse</td>\n",
       "      <td>10</td>\n",
       "      <td>--</td>\n",
       "    </tr>\n",
       "  </tbody>\n",
       "</table>\n",
       "</div>"
      ],
      "text/plain": [
       "   Sample  Volume    Description  Tube Position\n",
       "0      25    24.0  Initial Rinse     6       --\n",
       "1      20    22.0  Initial Rinse     7       --\n",
       "2      11    25.0  Initial Rinse     8       --\n",
       "3      17    21.5  Initial Rinse     9       --\n",
       "4      10    21.0  Initial Rinse    10       --"
      ]
     },
     "execution_count": 5,
     "metadata": {},
     "output_type": "execute_result"
    }
   ],
   "source": [
    "filename = 'Filter_Map.csv'\n",
    "fmap = pd.read_csv(filename)\n",
    "fmap.head() "
   ]
  },
  {
   "cell_type": "code",
   "execution_count": 6,
   "metadata": {},
   "outputs": [],
   "source": [
    "df2=pd.merge(df,fmap,how='left', on='Sample')"
   ]
  },
  {
   "cell_type": "code",
   "execution_count": 7,
   "metadata": {},
   "outputs": [
    {
     "data": {
      "text/html": [
       "<div>\n",
       "<style scoped>\n",
       "    .dataframe tbody tr th:only-of-type {\n",
       "        vertical-align: middle;\n",
       "    }\n",
       "\n",
       "    .dataframe tbody tr th {\n",
       "        vertical-align: top;\n",
       "    }\n",
       "\n",
       "    .dataframe thead th {\n",
       "        text-align: right;\n",
       "    }\n",
       "</style>\n",
       "<table border=\"1\" class=\"dataframe\">\n",
       "  <thead>\n",
       "    <tr style=\"text-align: right;\">\n",
       "      <th></th>\n",
       "      <th>Sample</th>\n",
       "      <th>Initial</th>\n",
       "      <th>Final</th>\n",
       "      <th>Volume</th>\n",
       "      <th>Description</th>\n",
       "      <th>Tube</th>\n",
       "      <th>Position</th>\n",
       "    </tr>\n",
       "  </thead>\n",
       "  <tbody>\n",
       "    <tr>\n",
       "      <td>0</td>\n",
       "      <td>1</td>\n",
       "      <td>1.3395</td>\n",
       "      <td>1.3656</td>\n",
       "      <td>53.0</td>\n",
       "      <td>Final Rinse</td>\n",
       "      <td>9</td>\n",
       "      <td>--</td>\n",
       "    </tr>\n",
       "    <tr>\n",
       "      <td>1</td>\n",
       "      <td>2</td>\n",
       "      <td>1.0771</td>\n",
       "      <td>1.0791</td>\n",
       "      <td>150.0</td>\n",
       "      <td>Whole Sample</td>\n",
       "      <td>8</td>\n",
       "      <td>Top</td>\n",
       "    </tr>\n",
       "    <tr>\n",
       "      <td>2</td>\n",
       "      <td>3</td>\n",
       "      <td>1.0826</td>\n",
       "      <td>1.0849</td>\n",
       "      <td>150.0</td>\n",
       "      <td>Whole Sample</td>\n",
       "      <td>9</td>\n",
       "      <td>Top</td>\n",
       "    </tr>\n",
       "    <tr>\n",
       "      <td>3</td>\n",
       "      <td>4</td>\n",
       "      <td>1.0933</td>\n",
       "      <td>1.0962</td>\n",
       "      <td>152.0</td>\n",
       "      <td>Whole Sample</td>\n",
       "      <td>6</td>\n",
       "      <td>Bottom</td>\n",
       "    </tr>\n",
       "    <tr>\n",
       "      <td>4</td>\n",
       "      <td>5</td>\n",
       "      <td>1.0848</td>\n",
       "      <td>1.0866</td>\n",
       "      <td>150.0</td>\n",
       "      <td>Initial Sample</td>\n",
       "      <td>10</td>\n",
       "      <td>Bottom</td>\n",
       "    </tr>\n",
       "  </tbody>\n",
       "</table>\n",
       "</div>"
      ],
      "text/plain": [
       "   Sample  Initial   Final  Volume     Description  Tube Position\n",
       "0       1   1.3395  1.3656    53.0     Final Rinse     9       --\n",
       "1       2   1.0771  1.0791   150.0    Whole Sample     8      Top\n",
       "2       3   1.0826  1.0849   150.0    Whole Sample     9      Top\n",
       "3       4   1.0933  1.0962   152.0    Whole Sample     6   Bottom\n",
       "4       5   1.0848  1.0866   150.0  Initial Sample    10   Bottom"
      ]
     },
     "execution_count": 7,
     "metadata": {},
     "output_type": "execute_result"
    }
   ],
   "source": [
    "df2.head()"
   ]
  },
  {
   "cell_type": "code",
   "execution_count": 8,
   "metadata": {},
   "outputs": [],
   "source": [
    "df2['Conc']=(df2['Final']-df2['Initial'])/df2['Volume']"
   ]
  },
  {
   "cell_type": "code",
   "execution_count": 9,
   "metadata": {},
   "outputs": [],
   "source": [
    "#Set up definitions to extract difference between top and bottom\n",
    "def des(dd,description):\n",
    "    df_type=dd[dd['Description']==description]\n",
    "    return df_type;  \n",
    "def tube(dd,description,number):\n",
    "    df_type=des(dd,description)\n",
    "    exp_u=df_type[df_type['Tube']==number]\n",
    "    return exp_u;\n",
    "def diff(dd,description,number):\n",
    "    exp_u=tube(dd,description,number)\n",
    "    top=exp_u[exp_u['Position']=='Top']\n",
    "    bottom=exp_u[exp_u['Position']=='Bottom']\n",
    "    red=bottom.iloc[0].Conc-top.iloc[0].Conc\n",
    "    return red"
   ]
  },
  {
   "cell_type": "code",
   "execution_count": null,
   "metadata": {},
   "outputs": [],
   "source": [
    "\n",
    "    \n",
    "    "
   ]
  },
  {
   "cell_type": "code",
   "execution_count": 10,
   "metadata": {},
   "outputs": [
    {
     "name": "stdout",
     "output_type": "stream",
     "text": [
      "-3.3333333333329666e-06\n"
     ]
    }
   ],
   "source": [
    "w3=diff(df2,'Whole Sample',9)\n",
    "print(w3)"
   ]
  },
  {
   "cell_type": "code",
   "execution_count": 11,
   "metadata": {},
   "outputs": [],
   "source": [
    "df_filt=pd.DataFrame({'Tube': [6,7,8,9,10]})"
   ]
  },
  {
   "cell_type": "code",
   "execution_count": 12,
   "metadata": {},
   "outputs": [],
   "source": [
    "def chart(dd,Description):\n",
    "    df_filt[Description]=[diff(df2,Description, 6),diff(df2,Description, 7),diff(df2,Description, 8),diff(df2,Description, 9),diff(df2,Description, 10),]\n",
    "    return df_filt"
   ]
  },
  {
   "cell_type": "code",
   "execution_count": 13,
   "metadata": {},
   "outputs": [],
   "source": [
    "xs=chart(df2,'Whole Sample')"
   ]
  },
  {
   "cell_type": "code",
   "execution_count": 14,
   "metadata": {},
   "outputs": [],
   "source": [
    "xs=chart(df2,'Initial Sample')"
   ]
  },
  {
   "cell_type": "code",
   "execution_count": 15,
   "metadata": {},
   "outputs": [
    {
     "data": {
      "text/html": [
       "<div>\n",
       "<style scoped>\n",
       "    .dataframe tbody tr th:only-of-type {\n",
       "        vertical-align: middle;\n",
       "    }\n",
       "\n",
       "    .dataframe tbody tr th {\n",
       "        vertical-align: top;\n",
       "    }\n",
       "\n",
       "    .dataframe thead th {\n",
       "        text-align: right;\n",
       "    }\n",
       "</style>\n",
       "<table border=\"1\" class=\"dataframe\">\n",
       "  <thead>\n",
       "    <tr style=\"text-align: right;\">\n",
       "      <th></th>\n",
       "      <th>Tube</th>\n",
       "      <th>Whole Sample</th>\n",
       "      <th>Initial Sample</th>\n",
       "    </tr>\n",
       "  </thead>\n",
       "  <tbody>\n",
       "    <tr>\n",
       "      <td>0</td>\n",
       "      <td>6</td>\n",
       "      <td>5.263158e-06</td>\n",
       "      <td>2.631579e-06</td>\n",
       "    </tr>\n",
       "    <tr>\n",
       "      <td>1</td>\n",
       "      <td>7</td>\n",
       "      <td>-6.330810e-06</td>\n",
       "      <td>3.937360e-06</td>\n",
       "    </tr>\n",
       "    <tr>\n",
       "      <td>2</td>\n",
       "      <td>8</td>\n",
       "      <td>-2.666667e-06</td>\n",
       "      <td>-2.751206e-06</td>\n",
       "    </tr>\n",
       "    <tr>\n",
       "      <td>3</td>\n",
       "      <td>9</td>\n",
       "      <td>-3.333333e-06</td>\n",
       "      <td>9.357263e-07</td>\n",
       "    </tr>\n",
       "    <tr>\n",
       "      <td>4</td>\n",
       "      <td>10</td>\n",
       "      <td>7.593819e-07</td>\n",
       "      <td>1.578947e-07</td>\n",
       "    </tr>\n",
       "  </tbody>\n",
       "</table>\n",
       "</div>"
      ],
      "text/plain": [
       "   Tube  Whole Sample  Initial Sample\n",
       "0     6  5.263158e-06    2.631579e-06\n",
       "1     7 -6.330810e-06    3.937360e-06\n",
       "2     8 -2.666667e-06   -2.751206e-06\n",
       "3     9 -3.333333e-06    9.357263e-07\n",
       "4    10  7.593819e-07    1.578947e-07"
      ]
     },
     "execution_count": 15,
     "metadata": {},
     "output_type": "execute_result"
    }
   ],
   "source": [
    "xs"
   ]
  },
  {
   "cell_type": "code",
   "execution_count": 18,
   "metadata": {},
   "outputs": [
    {
     "data": {
      "text/plain": [
       "Text(0.5, 0, 'tubes')"
      ]
     },
     "execution_count": 18,
     "metadata": {},
     "output_type": "execute_result"
    },
    {
     "data": {
      "image/png": "[encoded data removed]",
      "text/plain": [
       "<Figure size 432x288 with 1 Axes>"
      ]
     },
     "metadata": {
      "needs_background": "light"
     },
     "output_type": "display_data"
    }
   ],
   "source": [
    "plt.bar(xs['Tube'],xs['Whole Sample'])\n",
    "plt.bar(xs['Tube'],xs['Initial Sample'])\n",
    "plt.xlabel('tubes')\n"
   ]
  },
  {
   "cell_type": "code",
   "execution_count": null,
   "metadata": {},
   "outputs": [],
   "source": []
  }
 ],
 "metadata": {
  "kernelspec": {
   "display_name": "Python [conda env:Oyster]",
   "language": "python",
   "name": "conda-env-Oyster-py"
  },
  "language_info": {
   "codemirror_mode": {
    "name": "ipython",
    "version": 3
   },
   "file_extension": ".py",
   "mimetype": "text/x-python",
   "name": "python",
   "nbconvert_exporter": "python",
   "pygments_lexer": "ipython3",
   "version": "3.7.4"
  }
 },
 "nbformat": 4,
 "nbformat_minor": 4
}
